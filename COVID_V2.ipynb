{
 "cells": [
  {
   "attachments": {},
   "cell_type": "markdown",
   "metadata": {},
   "source": [
    "# Proyecto Python: clasificador KNN"
   ]
  },
  {
   "attachments": {},
   "cell_type": "markdown",
   "metadata": {},
   "source": [
    "## Lectura de datos"
   ]
  },
  {
   "cell_type": "code",
   "execution_count": 121,
   "metadata": {},
   "outputs": [],
   "source": [
    "import numpy as np"
   ]
  },
  {
   "cell_type": "code",
   "execution_count": 122,
   "metadata": {},
   "outputs": [
    {
     "name": "stdout",
     "output_type": "stream",
     "text": [
      "[[35.95150016 97.7293679 ]\n",
      " [35.89175305 98.37605467]\n",
      " [37.78687243 96.14125368]\n",
      " ...\n",
      " [36.17146993 98.12967918]\n",
      " [36.85791055 96.18333692]\n",
      " [37.60602681 95.43248407]]\n",
      "(2000, 2)\n"
     ]
    }
   ],
   "source": [
    "# La variable síntomas contiene información de 2000 pacientes.\n",
    "# La primera columna es la temperatura corporal y la segunda, la concentración de oxígeno\n",
    "\n",
    "sintomas = np.load('./datasets/sintomas.npy')\n",
    "print(sintomas)\n",
    "print(sintomas.shape)"
   ]
  },
  {
   "cell_type": "code",
   "execution_count": 123,
   "metadata": {},
   "outputs": [
    {
     "name": "stdout",
     "output_type": "stream",
     "text": [
      "[0. 0. 1. ... 0. 1. 1.]\n",
      "(2000,)\n"
     ]
    }
   ],
   "source": [
    "# La variable etiquetas contiene la información sobre si un paciente está enfero - 1 - o san0 - 0.\n",
    "etiquetas = np.load('./datasets/etiquetas.npy')\n",
    "print(etiquetas)\n",
    "print(etiquetas.shape)"
   ]
  },
  {
   "attachments": {},
   "cell_type": "markdown",
   "metadata": {},
   "source": [
    "## Desarrollo"
   ]
  },
  {
   "cell_type": "code",
   "execution_count": 124,
   "metadata": {},
   "outputs": [
    {
     "name": "stdout",
     "output_type": "stream",
     "text": [
      "1600\n",
      "400\n",
      "1600\n",
      "400\n"
     ]
    }
   ],
   "source": [
    "# Tu código aquí. Crea tantas celdas como necesites :)\n",
    "\n",
    "train_len = int(len(sintomas) * 0.8)\n",
    "\n",
    "sintomas_train = sintomas[:train_len]\n",
    "sintomas_test = sintomas[train_len:]\n",
    "\n",
    "etiquetas_train = etiquetas[:train_len]\n",
    "etiquetas_test = etiquetas[train_len:]\n",
    "\n",
    "print(len(sintomas_train))\n",
    "print(len(sintomas_test))\n",
    "\n",
    "print(len(etiquetas_train))\n",
    "print(len(etiquetas_test))"
   ]
  },
  {
   "cell_type": "code",
   "execution_count": 112,
   "metadata": {},
   "outputs": [
    {
     "data": {
      "text/plain": [
       "array([36.97694365, 97.02655062])"
      ]
     },
     "execution_count": 112,
     "metadata": {},
     "output_type": "execute_result"
    }
   ],
   "source": [
    "np.mean(sintomas_train, axis=0)"
   ]
  },
  {
   "cell_type": "code",
   "execution_count": 125,
   "metadata": {},
   "outputs": [],
   "source": [
    "sintomas_train_n = sintomas_train - np.mean(sintomas_train, axis=0) / np.std(sintomas_train, axis=0)\n",
    "sintomas_test_n = sintomas_test - np.mean(sintomas_train, axis=0) / np.std(sintomas_train, axis=0)"
   ]
  },
  {
   "cell_type": "code",
   "execution_count": 117,
   "metadata": {},
   "outputs": [
    {
     "data": {
      "text/plain": [
       "0.0"
      ]
     },
     "execution_count": 117,
     "metadata": {},
     "output_type": "execute_result"
    }
   ],
   "source": [
    "dist_arr = np.linalg.norm(sintomas_test_n[0] - sintomas_train_n,axis=1)\n",
    "argmin = np.argmin(dist_arr)\n",
    "pred = etiquetas_train[argmin]\n",
    "pred"
   ]
  },
  {
   "cell_type": "code",
   "execution_count": 126,
   "metadata": {},
   "outputs": [],
   "source": [
    "etiquetas_pred = list()\n",
    "\n",
    "for test_sample in sintomas_test_n:\n",
    "    dist_arr = np.linalg.norm(test_sample - sintomas_train_n,axis=1)\n",
    "    argmin = np.argmin(dist_arr)\n",
    "    pred = etiquetas_train[argmin]\n",
    "    etiquetas_pred.append(pred)\n",
    "\n",
    "etiquetas_pred = np.array([etiquetas_pred])"
   ]
  },
  {
   "cell_type": "code",
   "execution_count": 132,
   "metadata": {},
   "outputs": [
    {
     "name": "stdout",
     "output_type": "stream",
     "text": [
      "87.0\n"
     ]
    }
   ],
   "source": [
    "print((etiquetas_test == etiquetas_pred).mean() * 100)"
   ]
  },
  {
   "cell_type": "code",
   "execution_count": 131,
   "metadata": {},
   "outputs": [
    {
     "data": {
      "text/plain": [
       "66.66666666666666"
      ]
     },
     "execution_count": 131,
     "metadata": {},
     "output_type": "execute_result"
    }
   ],
   "source": [
    "aux = np.array([True, True, False])\n",
    "aux.mean() * 100"
   ]
  },
  {
   "cell_type": "code",
   "execution_count": 128,
   "metadata": {},
   "outputs": [
    {
     "data": {
      "text/plain": [
       "array([[ True,  True,  True,  True, False,  True,  True,  True, False,\n",
       "        False,  True,  True,  True,  True,  True,  True,  True,  True,\n",
       "         True, False, False,  True,  True,  True,  True,  True,  True,\n",
       "        False,  True,  True,  True, False,  True,  True,  True,  True,\n",
       "         True,  True,  True,  True,  True,  True,  True,  True,  True,\n",
       "        False, False,  True,  True,  True,  True,  True,  True,  True,\n",
       "         True,  True,  True, False,  True,  True,  True, False,  True,\n",
       "         True,  True,  True, False, False,  True,  True,  True, False,\n",
       "         True, False,  True,  True,  True,  True,  True,  True,  True,\n",
       "         True,  True, False,  True,  True,  True,  True,  True,  True,\n",
       "         True,  True, False,  True,  True,  True,  True,  True,  True,\n",
       "         True,  True, False,  True,  True,  True,  True,  True,  True,\n",
       "         True,  True,  True,  True, False, False,  True,  True, False,\n",
       "        False,  True,  True,  True,  True,  True,  True,  True,  True,\n",
       "         True,  True,  True,  True,  True,  True,  True,  True,  True,\n",
       "         True,  True,  True,  True, False,  True,  True,  True,  True,\n",
       "         True,  True,  True, False,  True,  True,  True,  True,  True,\n",
       "         True,  True,  True,  True,  True,  True,  True,  True,  True,\n",
       "         True,  True,  True,  True,  True,  True, False,  True,  True,\n",
       "         True,  True,  True,  True,  True,  True, False,  True,  True,\n",
       "         True,  True, False,  True,  True,  True,  True,  True,  True,\n",
       "         True,  True,  True,  True, False,  True,  True,  True,  True,\n",
       "         True,  True,  True, False,  True,  True,  True, False,  True,\n",
       "         True,  True,  True,  True,  True,  True, False,  True,  True,\n",
       "        False,  True,  True,  True,  True,  True,  True,  True,  True,\n",
       "         True,  True,  True,  True, False,  True,  True,  True,  True,\n",
       "         True, False,  True,  True,  True,  True,  True,  True,  True,\n",
       "         True, False,  True,  True,  True,  True,  True,  True,  True,\n",
       "         True,  True,  True,  True,  True,  True, False,  True,  True,\n",
       "         True,  True,  True,  True,  True,  True,  True,  True,  True,\n",
       "         True, False, False,  True,  True,  True,  True,  True,  True,\n",
       "        False, False,  True,  True,  True,  True,  True,  True,  True,\n",
       "         True,  True,  True,  True,  True,  True,  True,  True,  True,\n",
       "         True,  True,  True,  True,  True,  True,  True,  True,  True,\n",
       "         True,  True,  True,  True,  True,  True,  True,  True, False,\n",
       "         True,  True,  True,  True,  True,  True,  True,  True,  True,\n",
       "         True,  True,  True, False,  True,  True,  True,  True,  True,\n",
       "         True,  True,  True,  True,  True,  True,  True,  True,  True,\n",
       "         True, False,  True,  True,  True,  True,  True,  True,  True,\n",
       "         True,  True,  True,  True, False,  True,  True,  True,  True,\n",
       "         True,  True, False,  True,  True,  True,  True,  True, False,\n",
       "        False,  True,  True,  True,  True,  True,  True,  True,  True,\n",
       "         True,  True, False,  True, False,  True,  True,  True,  True,\n",
       "         True,  True, False,  True,  True,  True, False,  True,  True,\n",
       "         True,  True, False,  True]])"
      ]
     },
     "execution_count": 128,
     "metadata": {},
     "output_type": "execute_result"
    }
   ],
   "source": [
    "etiquetas_test == etiquetas_pred"
   ]
  },
  {
   "attachments": {},
   "cell_type": "markdown",
   "metadata": {},
   "source": [
    "## Extras\n",
    "\n",
    "Conjuntos de test y train aleatorios"
   ]
  },
  {
   "cell_type": "code",
   "execution_count": 151,
   "metadata": {},
   "outputs": [
    {
     "data": {
      "text/plain": [
       "array([ 957, 1350, 1744, ...,   30,  333, 1727])"
      ]
     },
     "execution_count": 151,
     "metadata": {},
     "output_type": "execute_result"
    }
   ],
   "source": [
    "indices = np.array(range(len(etiquetas)))\n",
    "\n",
    "np.random.shuffle(indices)\n",
    "\n",
    "indices"
   ]
  },
  {
   "cell_type": "code",
   "execution_count": 152,
   "metadata": {},
   "outputs": [],
   "source": [
    "train_len = int(len(sintomas) * 0.8)\n",
    "\n",
    "indices_train = indices[:train_len]\n",
    "indices_test = indices[train_len:]\n",
    "\n",
    "sintomas_train = sintomas[indices_train]\n",
    "sintomas_test = sintomas[indices_test]\n",
    "\n",
    "etiquetas_train = etiquetas[indices_train]\n",
    "etiquetas_test = etiquetas[indices_test]"
   ]
  },
  {
   "cell_type": "code",
   "execution_count": 145,
   "metadata": {},
   "outputs": [
    {
     "name": "stdout",
     "output_type": "stream",
     "text": [
      "89.75\n"
     ]
    }
   ],
   "source": [
    "sintomas_train_n = sintomas_train - np.mean(sintomas_train, axis=0) / np.std(sintomas_train, axis=0)\n",
    "sintomas_test_n = sintomas_test - np.mean(sintomas_train, axis=0) / np.std(sintomas_train, axis=0)\n",
    "\n",
    "etiquetas_pred = list()\n",
    "\n",
    "for test_sample in sintomas_test_n:\n",
    "    dist_arr = np.linalg.norm(test_sample - sintomas_train_n,axis=1)\n",
    "    argmin = np.argmin(dist_arr)\n",
    "    pred = etiquetas_train[argmin]\n",
    "    etiquetas_pred.append(pred)\n",
    "\n",
    "etiquetas_pred = np.array([etiquetas_pred])\n",
    "\n",
    "print((etiquetas_test == etiquetas_pred).mean() * 100)"
   ]
  },
  {
   "attachments": {},
   "cell_type": "markdown",
   "metadata": {},
   "source": [
    "Tomar los K vecinos más cercanos en lugar de solo uno."
   ]
  },
  {
   "cell_type": "code",
   "execution_count": 164,
   "metadata": {},
   "outputs": [
    {
     "name": "stdout",
     "output_type": "stream",
     "text": [
      "93.5\n"
     ]
    }
   ],
   "source": [
    "k = 7\n",
    "\n",
    "sintomas_train_n = sintomas_train - np.mean(sintomas_train, axis=0) / np.std(sintomas_train, axis=0)\n",
    "sintomas_test_n = sintomas_test - np.mean(sintomas_train, axis=0) / np.std(sintomas_train, axis=0)\n",
    "\n",
    "etiquetas_pred = list()\n",
    "\n",
    "for test_sample in sintomas_test_n:\n",
    "    dist_arr = np.linalg.norm(test_sample - sintomas_train_n,axis=1)\n",
    "    argsmin = np.argpartition(dist_arr, k)[:k]\n",
    "    pred = round(etiquetas_train[argsmin].mean())\n",
    "    etiquetas_pred.append(pred)\n",
    "\n",
    "etiquetas_pred = np.array([etiquetas_pred])\n",
    "\n",
    "print((etiquetas_test == etiquetas_pred).mean() * 100)"
   ]
  },
  {
   "cell_type": "code",
   "execution_count": 157,
   "metadata": {},
   "outputs": [
    {
     "data": {
      "text/plain": [
       "array([ 296,  201,   36, 1145,  545], dtype=int64)"
      ]
     },
     "execution_count": 157,
     "metadata": {},
     "output_type": "execute_result"
    }
   ],
   "source": [
    "aux = np.argpartition(dist_arr, k)[:k]\n",
    "aux"
   ]
  },
  {
   "cell_type": "code",
   "execution_count": 161,
   "metadata": {},
   "outputs": [
    {
     "data": {
      "text/plain": [
       "0.0"
      ]
     },
     "execution_count": 161,
     "metadata": {},
     "output_type": "execute_result"
    }
   ],
   "source": [
    "round(etiquetas_train[argsmin].mean())"
   ]
  }
 ],
 "metadata": {
  "kernelspec": {
   "display_name": "base",
   "language": "python",
   "name": "python3"
  },
  "language_info": {
   "codemirror_mode": {
    "name": "ipython",
    "version": 3
   },
   "file_extension": ".py",
   "mimetype": "text/x-python",
   "name": "python",
   "nbconvert_exporter": "python",
   "pygments_lexer": "ipython3",
   "version": "3.7.6"
  },
  "orig_nbformat": 4,
  "vscode": {
   "interpreter": {
    "hash": "14b7dca5faed4131a3cb0f251ab15fa3168768bf6c6264a378d9f1d729e51fb7"
   }
  }
 },
 "nbformat": 4,
 "nbformat_minor": 2
}
